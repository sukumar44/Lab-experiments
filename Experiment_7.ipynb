{
  "nbformat": 4,
  "nbformat_minor": 0,
  "metadata": {
    "colab": {
      "provenance": [],
      "authorship_tag": "ABX9TyPNeQhHt8AccVNxOgF8YQs7",
      "include_colab_link": true
    },
    "kernelspec": {
      "name": "python3",
      "display_name": "Python 3"
    },
    "language_info": {
      "name": "python"
    }
  },
  "cells": [
    {
      "cell_type": "markdown",
      "metadata": {
        "id": "view-in-github",
        "colab_type": "text"
      },
      "source": [
        "<a href=\"https://colab.research.google.com/github/sukumar44/Lab-experiments/blob/main/Experiment_7.ipynb\" target=\"_parent\"><img src=\"https://colab.research.google.com/assets/colab-badge.svg\" alt=\"Open In Colab\"/></a>"
      ]
    },
    {
      "cell_type": "code",
      "source": [
        "# importing required libraries\n",
        "import urllib\n",
        "import requests\n",
        "import os\n",
        "\n",
        "# retrieving using image url\n",
        "urllib.request.urlretrieve(\"https://i.ibb.co/xY4DJJ5/img1.jpg\", \"img1.jpg\")\n",
        "urllib.request.urlretrieve(\"https://i.ibb.co/Gnd1Y1L/img2.jpg\", \"img2.jpg\")\n",
        "urllib.request.urlretrieve(\"https://i.ibb.co/Z6JgS1L/img3.jpg\", \"img3.jpg\")\n",
        "\n",
        "print('Images downloaded')\n",
        "\n",
        "# get current working directory path\n",
        "path = os.getcwd()\n",
        "\n",
        "captionarr = [\n",
        "    \"This is the first caption\",\n",
        "    \"This is the second caption\",\n",
        "    \"This is the third caption\"\n",
        "    ]\n",
        "    # importing necessary functions from PIL\n",
        "from PIL import Image\n",
        "from PIL import ImageFont\n",
        "from PIL import ImageDraw\n",
        "\n",
        "print(os.getcwd())\n",
        "\n",
        "# checking the file mime types if\n",
        "# it is jpg, png or jpeg\n",
        "def ext(file):\n",
        "    index = file.find(\".jpg\")\n",
        "    current_file = \"\"\n",
        "    current_file = file[index:]\n",
        "    return current_file\n",
        "\n",
        "def ext2(file):\n",
        "    index = file.find(\".jpeg\")\n",
        "    current_file = \"\"\n",
        "    current_file = file[index:]\n",
        "    return current_file\n",
        "\n",
        "def ext3(file):\n",
        "    index = file.find(\".png\")\n",
        "    current_file = \"\"\n",
        "    current_file = file[index:]\n",
        "    return current_file\n",
        "\n",
        "# converting text from lowercase to uppercase\n",
        "def convert(words):\n",
        "    s = \"\"\n",
        "    for word in words:\n",
        "        s += word.upper()\n",
        "    return s\n",
        "\n",
        "caption_first = convert(captionarr[0])\n",
        "caption_second = convert(captionarr[1])\n",
        "caption_third = convert(captionarr[2])\n",
        "\n",
        "print(caption_first)\n",
        "print(caption_second)\n",
        "print(caption_third)\n",
        "\n",
        "count = 0\n",
        "\n",
        "for f in os.listdir('.'):\n",
        "    try:\n",
        "        # Checking for file types if jpg, png\n",
        "        # or jpeg excluding other files\n",
        "        if (ext(f) == '.jpg' or ext2(f) == '.jpeg' or ext3(f) == '.png'):\n",
        "            img = Image.open(f)\n",
        "            width, height = img.size\n",
        "            basewidth = 1200\n",
        "            # print(height)\n",
        "\n",
        "            # Resizing images to same width height\n",
        "            wpercent = (basewidth / float(img.size[0]))\n",
        "            hsize = int((float(img.size[1])*float(wpercent)))\n",
        "            img = img.resize((basewidth, hsize), Image.ANTIALIAS)\n",
        "            new_width, new_height = img.size\n",
        "\n",
        "            # print(new_height)\n",
        "            # changing image mode if not in RGB\n",
        "            if not img.mode == 'RGB':\n",
        "                img = img.convert('RGB')\n",
        "\n",
        "            draw = ImageDraw.Draw(img)\n",
        "            # font = ImageFont.truetype(<font-file>, <font-size>)\n",
        "            # initializing which font will be chosen by us\n",
        "            font = ImageFont.truetype(\"Arial Bold.ttf\", 35)\n",
        "\n",
        "             # First Caption on First image\n",
        "            if count == 0:\n",
        "                draw.text((new_width / 15 + 25, new_height - 100),\n",
        "                           caption_first, (255, 0, 0), font = font,\n",
        "                           align =\"center\")\n",
        "\n",
        "            # Second Caption on Second image\n",
        "            elif count == 1:\n",
        "                draw.text((new_width / 15 + 25, new_height - 100),\n",
        "                          caption_second, (255, 0, 0), font = font,\n",
        "                          align =\"center\")\n",
        "\n",
        "            # Third Caption on Third image\n",
        "            else:\n",
        "                draw.text(( new_width / 15 + 25, new_height - 100),\n",
        "                            caption_third, (255, 0, 0), font = font,\n",
        "                            align =\"center\")\n",
        "\n",
        "            img.save(\"CaptionedImges/{}\".format(f))\n",
        "            print('done')\n",
        "            count = count + 1\n",
        "\n",
        "    except OSError:\n",
        "        pass\n",
        "        import os\n",
        "import glob\n",
        "import shutil\n",
        "\n",
        "\n",
        "fnames = []\n",
        "for file in os.listdir('.'):\n",
        "    # appending files in directory to the frames arr\n",
        "    fnames.append(file)\n",
        "fnames.sort(key = lambda x: os.stat(x).st_ctime, reverse = True)\n",
        "\n"
      ],
      "metadata": {
        "colab": {
          "base_uri": "https://localhost:8080/"
        },
        "id": "uIr8gzZHfWUB",
        "outputId": "92a778de-5b95-4a30-bf3f-48e84f783c44"
      },
      "execution_count": 3,
      "outputs": [
        {
          "output_type": "stream",
          "name": "stdout",
          "text": [
            "Images downloaded\n",
            "/content\n",
            "THIS IS THE FIRST CAPTION\n",
            "THIS IS THE SECOND CAPTION\n",
            "THIS IS THE THIRD CAPTION\n"
          ]
        },
        {
          "output_type": "stream",
          "name": "stderr",
          "text": [
            "<ipython-input-3-2fef8b5ff050>:78: DeprecationWarning: ANTIALIAS is deprecated and will be removed in Pillow 10 (2023-07-01). Use LANCZOS or Resampling.LANCZOS instead.\n",
            "  img = img.resize((basewidth, hsize), Image.ANTIALIAS)\n"
          ]
        }
      ]
    }
  ]
}