{
  "nbformat": 4,
  "nbformat_minor": 0,
  "metadata": {
    "colab": {
      "provenance": [],
      "authorship_tag": "ABX9TyN1bXrql6P7LxMBqoTwxYEc",
      "include_colab_link": true
    },
    "kernelspec": {
      "name": "python3",
      "display_name": "Python 3"
    },
    "language_info": {
      "name": "python"
    }
  },
  "cells": [
    {
      "cell_type": "markdown",
      "metadata": {
        "id": "view-in-github",
        "colab_type": "text"
      },
      "source": [
        "<a href=\"https://colab.research.google.com/github/sukumar44/Lab-experiments/blob/main/9_CNN.ipynb\" target=\"_parent\"><img src=\"https://colab.research.google.com/assets/colab-badge.svg\" alt=\"Open In Colab\"/></a>"
      ]
    },
    {
      "cell_type": "code",
      "source": [
        "import tensorflow as tf\n",
        "from tensorflow.keras.datasets import mnist\n",
        "from tensorflow.keras.models import Sequential\n",
        "from tensorflow.keras.layers import Conv2D, MaxPooling2D, Flatten, Dense, Dropout\n",
        "from tensorflow.keras.utils import to_categorical\n",
        "# Load and preprocess the dataset\n",
        "(x_train, y_train), (x_test, y_test) = mnist.load_data()\n",
        "x_train = x_train.reshape(x_train.shape[0], 28, 28, 1).astype('float32') / 255\n",
        "x_test = x_test.reshape(x_test.shape[0], 28, 28, 1).astype('float32') / 255\n",
        "y_train = to_categorical(y_train, 10)\n",
        "y_test = to_categorical(y_test, 10)\n",
        "# Build the CNN model\n",
        "model = Sequential()\n",
        "model.add(Conv2D(32, kernel_size=(3, 3), activation='relu',\n",
        "input_shape=(28, 28, 1)))\n",
        "model.add(MaxPooling2D(pool_size=(2, 2)))\n",
        "model.add(Conv2D(64, kernel_size=(3, 3), activation='relu'))\n",
        "model.add(MaxPooling2D(pool_size=(2, 2)))\n",
        "model.add(Flatten())\n",
        "model.add(Dense(128, activation='relu'))\n",
        "model.add(Dropout(0.5))\n",
        "model.add(Dense(10, activation='softmax'))\n",
        "# Compile the model\n",
        "model.compile(loss='categorical_crossentropy', optimizer='adam',\n",
        "metrics=['accuracy'])\n",
        "# Train the model\n",
        "model.fit(x_train, y_train, validation_data=(x_test, y_test), epochs=10,\n",
        "batch_size=200, verbose=2)\n",
        "# Evaluate the model\n",
        "test_loss, test_acc = model.evaluate(x_test, y_test, verbose=0)\n",
        "print(f'Test accuracy: {test_acc*100:.2f}%')"
      ],
      "metadata": {
        "colab": {
          "base_uri": "https://localhost:8080/"
        },
        "id": "LRjt1FGtmAsX",
        "outputId": "11a18876-93f0-414b-c736-6e57fb3c847c"
      },
      "execution_count": 1,
      "outputs": [
        {
          "output_type": "stream",
          "name": "stdout",
          "text": [
            "Downloading data from https://storage.googleapis.com/tensorflow/tf-keras-datasets/mnist.npz\n",
            "11490434/11490434 [==============================] - 0s 0us/step\n",
            "Epoch 1/10\n",
            "300/300 - 50s - loss: 0.3390 - accuracy: 0.8972 - val_loss: 0.0655 - val_accuracy: 0.9780 - 50s/epoch - 168ms/step\n",
            "Epoch 2/10\n",
            "300/300 - 48s - loss: 0.1014 - accuracy: 0.9699 - val_loss: 0.0463 - val_accuracy: 0.9859 - 48s/epoch - 161ms/step\n",
            "Epoch 3/10\n",
            "300/300 - 46s - loss: 0.0734 - accuracy: 0.9775 - val_loss: 0.0344 - val_accuracy: 0.9884 - 46s/epoch - 153ms/step\n",
            "Epoch 4/10\n",
            "300/300 - 45s - loss: 0.0598 - accuracy: 0.9819 - val_loss: 0.0331 - val_accuracy: 0.9892 - 45s/epoch - 151ms/step\n",
            "Epoch 5/10\n",
            "300/300 - 47s - loss: 0.0514 - accuracy: 0.9844 - val_loss: 0.0315 - val_accuracy: 0.9893 - 47s/epoch - 155ms/step\n",
            "Epoch 6/10\n",
            "300/300 - 46s - loss: 0.0445 - accuracy: 0.9870 - val_loss: 0.0283 - val_accuracy: 0.9908 - 46s/epoch - 155ms/step\n",
            "Epoch 7/10\n",
            "300/300 - 46s - loss: 0.0396 - accuracy: 0.9877 - val_loss: 0.0260 - val_accuracy: 0.9911 - 46s/epoch - 154ms/step\n",
            "Epoch 8/10\n",
            "300/300 - 46s - loss: 0.0342 - accuracy: 0.9894 - val_loss: 0.0273 - val_accuracy: 0.9906 - 46s/epoch - 152ms/step\n",
            "Epoch 9/10\n",
            "300/300 - 47s - loss: 0.0329 - accuracy: 0.9896 - val_loss: 0.0245 - val_accuracy: 0.9917 - 47s/epoch - 157ms/step\n",
            "Epoch 10/10\n",
            "300/300 - 46s - loss: 0.0289 - accuracy: 0.9910 - val_loss: 0.0269 - val_accuracy: 0.9911 - 46s/epoch - 153ms/step\n",
            "Test accuracy: 99.11%\n"
          ]
        }
      ]
    }
  ]
}