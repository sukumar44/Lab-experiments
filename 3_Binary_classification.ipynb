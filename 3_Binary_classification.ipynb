{
  "nbformat": 4,
  "nbformat_minor": 0,
  "metadata": {
    "colab": {
      "provenance": [],
      "authorship_tag": "ABX9TyPy118Un+vgiRJA9sfxycyQ",
      "include_colab_link": true
    },
    "kernelspec": {
      "name": "python3",
      "display_name": "Python 3"
    },
    "language_info": {
      "name": "python"
    }
  },
  "cells": [
    {
      "cell_type": "markdown",
      "metadata": {
        "id": "view-in-github",
        "colab_type": "text"
      },
      "source": [
        "<a href=\"https://colab.research.google.com/github/sukumar44/Lab-experiments/blob/main/3_Binary_classification.ipynb\" target=\"_parent\"><img src=\"https://colab.research.google.com/assets/colab-badge.svg\" alt=\"Open In Colab\"/></a>"
      ]
    },
    {
      "cell_type": "code",
      "execution_count": 1,
      "metadata": {
        "colab": {
          "base_uri": "https://localhost:8080/"
        },
        "id": "KUFgmAvLXG-M",
        "outputId": "2e759f72-f923-41e0-8a5e-3ffe5138bcd4"
      },
      "outputs": [
        {
          "output_type": "stream",
          "name": "stdout",
          "text": [
            "Epoch 1/10\n",
            "20/20 [==============================] - 3s 34ms/step - loss: 0.6959 - accuracy: 0.4938 - val_loss: 0.6781 - val_accuracy: 0.6562\n",
            "Epoch 2/10\n",
            "20/20 [==============================] - 0s 7ms/step - loss: 0.6712 - accuracy: 0.5984 - val_loss: 0.6503 - val_accuracy: 0.6562\n",
            "Epoch 3/10\n",
            "20/20 [==============================] - 0s 22ms/step - loss: 0.6517 - accuracy: 0.5766 - val_loss: 0.6274 - val_accuracy: 0.6562\n",
            "Epoch 4/10\n",
            "20/20 [==============================] - 0s 14ms/step - loss: 0.6326 - accuracy: 0.6250 - val_loss: 0.6062 - val_accuracy: 0.6750\n",
            "Epoch 5/10\n",
            "20/20 [==============================] - 0s 11ms/step - loss: 0.6120 - accuracy: 0.7016 - val_loss: 0.5857 - val_accuracy: 0.6938\n",
            "Epoch 6/10\n",
            "20/20 [==============================] - 0s 7ms/step - loss: 0.5903 - accuracy: 0.7672 - val_loss: 0.5651 - val_accuracy: 0.7875\n",
            "Epoch 7/10\n",
            "20/20 [==============================] - 0s 15ms/step - loss: 0.5672 - accuracy: 0.7766 - val_loss: 0.5404 - val_accuracy: 0.8062\n",
            "Epoch 8/10\n",
            "20/20 [==============================] - 0s 8ms/step - loss: 0.5424 - accuracy: 0.8094 - val_loss: 0.5171 - val_accuracy: 0.8375\n",
            "Epoch 9/10\n",
            "20/20 [==============================] - 0s 11ms/step - loss: 0.5173 - accuracy: 0.8250 - val_loss: 0.4938 - val_accuracy: 0.8875\n",
            "Epoch 10/10\n",
            "20/20 [==============================] - 0s 8ms/step - loss: 0.4919 - accuracy: 0.8641 - val_loss: 0.4709 - val_accuracy: 0.9062\n",
            "7/7 [==============================] - 0s 13ms/step\n",
            "Test accuracy: 0.8900\n"
          ]
        }
      ],
      "source": [
        "import numpy as np\n",
        "import tensorflow as tf\n",
        "from tensorflow.keras.models import Sequential\n",
        "from tensorflow.keras.layers import Dense,Input\n",
        "from sklearn.model_selection import train_test_split\n",
        "from sklearn.metrics import accuracy_score\n",
        "np.random.seed(42)\n",
        "X = np.random.rand(1000, 2)\n",
        "y = (X[:, 0] + X[:, 1] > 1).astype(int)\n",
        "X_train, X_test, y_train, y_test = train_test_split(X, y, test_size=0.2,\n",
        "random_state=42)\n",
        "model = Sequential([Input(shape=(2)),Dense(64, activation='relu'),Dense(1,\n",
        "activation='sigmoid')])\n",
        "model.compile(optimizer='adam',loss='binary_crossentropy',metrics=['accuracy'])\n",
        "model.fit(X_train, y_train, epochs=10, batch_size=32, validation_split=0.2)\n",
        "y_pred = model.predict(X_test)\n",
        "y_pred_binary = (y_pred > 0.5).astype(int)\n",
        "test_accuracy = accuracy_score(y_test, y_pred_binary)\n",
        "print(f\"Test accuracy: {test_accuracy:.4f}\")\n"
      ]
    }
  ]
}